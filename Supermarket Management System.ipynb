{
 "cells": [
  {
   "cell_type": "code",
   "execution_count": 1,
   "id": "e1946a14-bfb6-490e-9bd2-d6ab2555e24a",
   "metadata": {},
   "outputs": [
    {
     "name": "stdout",
     "output_type": "stream",
     "text": [
      "Database Initialized.\n"
     ]
    }
   ],
   "source": [
    "import sqlite3\n",
    "\n",
    "def connect_db():\n",
    "    conn = sqlite3.connect(\"supermarket.db\")\n",
    "    cursor = conn.cursor()\n",
    "    \n",
    "    # Create Products Table\n",
    "    cursor.execute(\"\"\"\n",
    "        CREATE TABLE IF NOT EXISTS products (\n",
    "            product_id INTEGER PRIMARY KEY AUTOINCREMENT,\n",
    "            name TEXT UNIQUE,\n",
    "            quantity INTEGER,\n",
    "            price REAL\n",
    "        )\n",
    "    \"\"\")\n",
    "    \n",
    "    conn.commit()\n",
    "    conn.close()\n",
    "    \n",
    "connect_db()\n",
    "print(\"Database Initialized.\")\n"
   ]
  },
  {
   "cell_type": "code",
   "execution_count": 2,
   "id": "19b2df9e-b8f5-4a2f-860b-5c851ca570d0",
   "metadata": {},
   "outputs": [
    {
     "name": "stdout",
     "output_type": "stream",
     "text": [
      "Sample products inserted.\n"
     ]
    }
   ],
   "source": [
    "def insert_sample_products():\n",
    "    conn = sqlite3.connect(\"supermarket.db\")\n",
    "    cursor = conn.cursor()\n",
    "    \n",
    "    sample_products = [\n",
    "        (\"Milk\", 20, 1.50),\n",
    "        (\"Bread\", 15, 2.00),\n",
    "        (\"Eggs\", 30, 3.00),\n",
    "        (\"Rice\", 25, 5.00)\n",
    "    ]\n",
    "    \n",
    "    cursor.executemany(\"INSERT OR IGNORE INTO products (name, quantity, price) VALUES (?, ?, ?)\", sample_products)\n",
    "    conn.commit()\n",
    "    conn.close()\n",
    "    print(\"Sample products inserted.\")\n",
    "\n",
    "insert_sample_products()\n"
   ]
  },
  {
   "cell_type": "code",
   "execution_count": 3,
   "id": "9c884b87-d75a-4e1f-a990-07f55ccc2fb4",
   "metadata": {},
   "outputs": [
    {
     "data": {
      "text/plain": [
       "[(1, 'Milk', 20, 1.5),\n",
       " (2, 'Bread', 15, 2.0),\n",
       " (3, 'Eggs', 30, 3.0),\n",
       " (4, 'Rice', 25, 5.0)]"
      ]
     },
     "execution_count": 3,
     "metadata": {},
     "output_type": "execute_result"
    }
   ],
   "source": [
    "def view_products():\n",
    "    conn = sqlite3.connect(\"supermarket.db\")\n",
    "    cursor = conn.cursor()\n",
    "    cursor.execute(\"SELECT * FROM products\")\n",
    "    products = cursor.fetchall()\n",
    "    conn.close()\n",
    "    \n",
    "    return products if products else \"No products available.\"\n",
    "\n",
    "# Example Usage:\n",
    "view_products()\n"
   ]
  },
  {
   "cell_type": "code",
   "execution_count": 4,
   "id": "de729408-c39b-4194-866f-86231459f695",
   "metadata": {},
   "outputs": [
    {
     "data": {
      "text/plain": [
       "\"Product 'Butter' added successfully.\""
      ]
     },
     "execution_count": 4,
     "metadata": {},
     "output_type": "execute_result"
    }
   ],
   "source": [
    "def add_product(name, quantity, price):\n",
    "    conn = sqlite3.connect(\"supermarket.db\")\n",
    "    cursor = conn.cursor()\n",
    "    \n",
    "    try:\n",
    "        cursor.execute(\"INSERT INTO products (name, quantity, price) VALUES (?, ?, ?)\", (name, quantity, price))\n",
    "        conn.commit()\n",
    "        conn.close()\n",
    "        return f\"Product '{name}' added successfully.\"\n",
    "    except sqlite3.IntegrityError:\n",
    "        conn.close()\n",
    "        return f\"Product '{name}' already exists.\"\n",
    "\n",
    "# Example Usage:\n",
    "add_product(\"Butter\", 10, 4.50)\n"
   ]
  },
  {
   "cell_type": "code",
   "execution_count": 5,
   "id": "461c9456-3b81-4328-bf53-375976f709e7",
   "metadata": {},
   "outputs": [
    {
     "data": {
      "text/plain": [
       "'Purchased 2 x Milk for $3.00. Please pay at the counter.'"
      ]
     },
     "execution_count": 5,
     "metadata": {},
     "output_type": "execute_result"
    }
   ],
   "source": [
    "def purchase_product(name, quantity):\n",
    "    conn = sqlite3.connect(\"supermarket.db\")\n",
    "    cursor = conn.cursor()\n",
    "    \n",
    "    cursor.execute(\"SELECT quantity, price FROM products WHERE name = ?\", (name,))\n",
    "    product = cursor.fetchone()\n",
    "    \n",
    "    if product and product[0] >= quantity:\n",
    "        total_price = quantity * product[1]\n",
    "        cursor.execute(\"UPDATE products SET quantity = quantity - ? WHERE name = ?\", (quantity, name))\n",
    "        conn.commit()\n",
    "        conn.close()\n",
    "        return f\"Purchased {quantity} x {name} for ${total_price:.2f}. Please pay at the counter.\"\n",
    "    else:\n",
    "        conn.close()\n",
    "        return \"Product not available or insufficient stock.\"\n",
    "\n",
    "# Example Usage:\n",
    "purchase_product(\"Milk\", 2)\n"
   ]
  },
  {
   "cell_type": "code",
   "execution_count": 6,
   "id": "cf37cf9e-f53d-4f07-b19e-4c91a7e430d0",
   "metadata": {},
   "outputs": [
    {
     "data": {
      "text/plain": [
       "(3, 'Eggs', 30, 3.0)"
      ]
     },
     "execution_count": 6,
     "metadata": {},
     "output_type": "execute_result"
    }
   ],
   "source": [
    "def search_product(name):\n",
    "    conn = sqlite3.connect(\"supermarket.db\")\n",
    "    cursor = conn.cursor()\n",
    "    \n",
    "    cursor.execute(\"SELECT * FROM products WHERE name = ?\", (name,))\n",
    "    product = cursor.fetchone()\n",
    "    conn.close()\n",
    "    \n",
    "    return product if product else \"Product not found.\"\n",
    "\n",
    "# Example Usage:\n",
    "search_product(\"Eggs\")\n"
   ]
  },
  {
   "cell_type": "code",
   "execution_count": 7,
   "id": "e18c1714-6574-40bd-9a63-c77482bcab38",
   "metadata": {},
   "outputs": [
    {
     "data": {
      "text/plain": [
       "\"Product 'Rice' updated successfully.\""
      ]
     },
     "execution_count": 7,
     "metadata": {},
     "output_type": "execute_result"
    }
   ],
   "source": [
    "def edit_product(name, new_name=None, new_quantity=None, new_price=None):\n",
    "    conn = sqlite3.connect(\"supermarket.db\")\n",
    "    cursor = conn.cursor()\n",
    "    \n",
    "    if new_name:\n",
    "        cursor.execute(\"UPDATE products SET name = ? WHERE name = ?\", (new_name, name))\n",
    "    if new_quantity is not None:\n",
    "        cursor.execute(\"UPDATE products SET quantity = ? WHERE name = ?\", (new_quantity, name))\n",
    "    if new_price is not None:\n",
    "        cursor.execute(\"UPDATE products SET price = ? WHERE name = ?\", (new_price, name))\n",
    "    \n",
    "    conn.commit()\n",
    "    conn.close()\n",
    "    return f\"Product '{name}' updated successfully.\"\n",
    "\n",
    "# Example Usage:\n",
    "edit_product(\"Rice\", new_quantity=30, new_price=6.00)\n"
   ]
  },
  {
   "cell_type": "code",
   "execution_count": 8,
   "id": "9f26eefa-71b1-40bd-858c-bf49bc276406",
   "metadata": {},
   "outputs": [
    {
     "data": {
      "text/plain": [
       "[(1, 'Milk', 18, 1.5),\n",
       " (2, 'Bread', 15, 2.0),\n",
       " (3, 'Eggs', 30, 3.0),\n",
       " (4, 'Rice', 30, 6.0),\n",
       " (5, 'Butter', 10, 4.5)]"
      ]
     },
     "execution_count": 8,
     "metadata": {},
     "output_type": "execute_result"
    }
   ],
   "source": [
    "view_products()\n"
   ]
  },
  {
   "cell_type": "code",
   "execution_count": 9,
   "id": "da325771-4b25-49a1-ab69-94f0e24b3a89",
   "metadata": {},
   "outputs": [
    {
     "data": {
      "text/plain": [
       "\"Product 'Cheese' added successfully.\""
      ]
     },
     "execution_count": 9,
     "metadata": {},
     "output_type": "execute_result"
    }
   ],
   "source": [
    "add_product(\"Cheese\", 5, 3.50)\n"
   ]
  },
  {
   "cell_type": "code",
   "execution_count": 10,
   "id": "5dea6524-d0d8-40c7-9913-7e79b5a98ae2",
   "metadata": {},
   "outputs": [
    {
     "data": {
      "text/plain": [
       "'Purchased 2 x Bread for $4.00. Please pay at the counter.'"
      ]
     },
     "execution_count": 10,
     "metadata": {},
     "output_type": "execute_result"
    }
   ],
   "source": [
    "purchase_product(\"Bread\", 2)\n"
   ]
  },
  {
   "cell_type": "code",
   "execution_count": 11,
   "id": "12c9753d-f995-4b38-98a2-1de853743ed4",
   "metadata": {},
   "outputs": [
    {
     "data": {
      "text/plain": [
       "(3, 'Eggs', 30, 3.0)"
      ]
     },
     "execution_count": 11,
     "metadata": {},
     "output_type": "execute_result"
    }
   ],
   "source": [
    "search_product(\"Eggs\")\n"
   ]
  },
  {
   "cell_type": "code",
   "execution_count": 12,
   "id": "f0ff18e6-19a1-43f8-9f1b-b82ad711f479",
   "metadata": {},
   "outputs": [
    {
     "data": {
      "text/plain": [
       "\"Product 'Butter' updated successfully.\""
      ]
     },
     "execution_count": 12,
     "metadata": {},
     "output_type": "execute_result"
    }
   ],
   "source": [
    "edit_product(\"Butter\", new_price=5.00)\n"
   ]
  }
 ],
 "metadata": {
  "kernelspec": {
   "display_name": "Python 3 (ipykernel)",
   "language": "python",
   "name": "python3"
  },
  "language_info": {
   "codemirror_mode": {
    "name": "ipython",
    "version": 3
   },
   "file_extension": ".py",
   "mimetype": "text/x-python",
   "name": "python",
   "nbconvert_exporter": "python",
   "pygments_lexer": "ipython3",
   "version": "3.12.4"
  }
 },
 "nbformat": 4,
 "nbformat_minor": 5
}
